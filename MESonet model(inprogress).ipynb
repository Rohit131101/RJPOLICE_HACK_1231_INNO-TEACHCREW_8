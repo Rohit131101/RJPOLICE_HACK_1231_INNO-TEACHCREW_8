{
 "cells": [
  {
   "cell_type": "code",
   "execution_count": null,
   "metadata": {},
   "outputs": [],
   "source": [
    "import numpy as np\n",
    "import matplotlib.pyplot as plt\n",
    "from tensorflow.keras.layers import Input, Dense, Flatten, Conv2D, MaxPooling2D, BatchNormalization, Dropout, Reshape, Concatenate, LeakyReLU\n",
    "from tensorflow.keras.preprocessing.image import ImageDataGenerator\n",
    "from tensorflow.keras.optimizers import Adam\n",
    "from tensorflow.keras.models import Model"
   ]
  },
  {
   "cell_type": "code",
   "execution_count": null,
   "metadata": {},
   "outputs": [],
   "source": [
    "# Height and width refer to the size of the image\n",
    "# Channels refers to the amount of color channels (red, green, blue)\n",
    "\n",
    "image_dimensions = {'height':256, 'width':256, 'channels':3}"
   ]
  },
  {
   "cell_type": "code",
   "execution_count": null,
   "metadata": {},
   "outputs": [],
   "source": [
    "# Create a Classifier class\n",
    "\n",
    "class Classifier:\n",
    "    def __init__():\n",
    "        self.model = 0\n",
    "    \n",
    "    def predict(self, x):\n",
    "        return self.model.predict(x)\n",
    "    \n",
    "    def fit(self, x, y):\n",
    "        return self.model.train_on_batch(x, y)\n",
    "    \n",
    "    def get_accuracy(self, x, y):\n",
    "        return self.model.test_on_batch(x, y)\n",
    "    \n",
    "    def load(self, path):\n",
    "        self.model.load_weights(path)"
   ]
  },
  {
   "cell_type": "code",
   "execution_count": null,
   "metadata": {},
   "outputs": [],
   "source": [
    "# Create a MesoNet class using the Classifier\n",
    "\n",
    "class Meso4(Classifier):\n",
    "    def __init__(self, learning_rate = 0.001):\n",
    "        self.model = self.init_model()\n",
    "        optimizer = Adam(lr = learning_rate)\n",
    "        self.model.compile(optimizer = optimizer,\n",
    "                           loss = 'mean_squared_error',\n",
    "                           metrics = ['accuracy'])\n",
    "    \n",
    "    def init_model(self): \n",
    "        x = Input(shape = (image_dimensions['height'],\n",
    "                           image_dimensions['width'],\n",
    "                           image_dimensions['channels']))\n",
    "        \n",
    "        x1 = Conv2D(8, (3, 3), padding='same', activation = 'relu')(x)\n",
    "        x1 = BatchNormalization()(x1)\n",
    "        x1 = MaxPooling2D(pool_size=(2, 2), padding='same')(x1)\n",
    "        \n",
    "        x2 = Conv2D(8, (5, 5), padding='same', activation = 'relu')(x1)\n",
    "        x2 = BatchNormalization()(x2)\n",
    "        x2 = MaxPooling2D(pool_size=(2, 2), padding='same')(x2)\n",
    "        \n",
    "        x3 = Conv2D(16, (5, 5), padding='same', activation = 'relu')(x2)\n",
    "        x3 = BatchNormalization()(x3)\n",
    "        x3 = MaxPooling2D(pool_size=(2, 2), padding='same')(x3)\n",
    "        \n",
    "        x4 = Conv2D(16, (5, 5), padding='same', activation = 'relu')(x3)\n",
    "        x4 = BatchNormalization()(x4)\n",
    "        x4 = MaxPooling2D(pool_size=(4, 4), padding='same')(x4)\n",
    "        \n",
    "        y = Flatten()(x4)\n",
    "        y = Dropout(0.5)(y)\n",
    "        y = Dense(16)(y)\n",
    "        y = LeakyReLU(alpha=0.1)(y)\n",
    "        y = Dropout(0.5)(y)\n",
    "        y = Dense(1, activation = 'sigmoid')(y)\n",
    "\n",
    "        return Model(inputs = x, outputs = y)"
   ]
  },
  {
   "cell_type": "code",
   "execution_count": null,
   "metadata": {},
   "outputs": [],
   "source": [
    "# Prepare image data\n",
    "\n",
    "# Rescaling pixel values (between 1 and 255) to a range between 0 and 1\n",
    "dataGenerator = ImageDataGenerator(rescale=1./255)\n",
    "\n",
    "# Instantiating generator to feed images through the network\n",
    "generator = dataGenerator.flow_from_directory(\n",
    "    './data/',\n",
    "    target_size=(256, 256),\n",
    "    batch_size=1,\n",
    "    class_mode='binary')"
   ]
  },
  {
   "cell_type": "code",
   "execution_count": null,
   "metadata": {},
   "outputs": [],
   "source": [
    "# Checking class assignment\n",
    "generator.class_indices"
   ]
  },
  {
   "cell_type": "code",
   "execution_count": null,
   "metadata": {},
   "outputs": [],
   "source": [
    "# Creating separate lists for correctly classified and misclassified images\n",
    "correct_real = []\n",
    "correct_real_pred = []\n",
    "\n",
    "correct_deepfake = []\n",
    "correct_deepfake_pred = []\n",
    "\n",
    "misclassified_real = []\n",
    "misclassified_real_pred = []\n",
    "\n",
    "misclassified_deepfake = []\n",
    "misclassified_deepfake_pred = []"
   ]
  },
  {
   "cell_type": "code",
   "execution_count": null,
   "metadata": {},
   "outputs": [],
   "source": [
    "# Generating predictions on validation set, storing in separate lists\n",
    "for i in range(len(generator.labels)):\n",
    "    \n",
    "    # Loading next picture, generating prediction\n",
    "    X, y = generator.next()\n",
    "    pred = meso.predict(X)[0][0]\n",
    "    \n",
    "    # Sorting into proper category\n",
    "    if round(pred)==y[0] and y[0]==1:\n",
    "        correct_real.append(X)\n",
    "        correct_real_pred.append(pred)\n",
    "    elif round(pred)==y[0] and y[0]==0:\n",
    "        correct_deepfake.append(X)\n",
    "        correct_deepfake_pred.append(pred)\n",
    "    elif y[0]==1:\n",
    "        misclassified_real.append(X)\n",
    "        misclassified_real_pred.append(pred)\n",
    "    else:\n",
    "        misclassified_deepfake.append(X)\n",
    "        misclassified_deepfake_pred.append(pred)   \n",
    "        \n",
    "    # Printing status update\n",
    "    if i % 1000 == 0:\n",
    "        print(i, ' predictions completed.')\n",
    "    \n",
    "    if i == len(generator.labels)-1:\n",
    "        print(\"All\", len(generator.labels), \"predictions completed\")"
   ]
  },
  {
   "cell_type": "code",
   "execution_count": null,
   "metadata": {},
   "outputs": [],
   "source": [
    "def plotter(images,preds):\n",
    "    fig = plt.figure(figsize=(16,9))\n",
    "    subset = np.random.randint(0, len(images)-1, 12)\n",
    "    for i,j in enumerate(subset):\n",
    "        fig.add_subplot(3,4,i+1)\n",
    "        plt.imshow(np.squeeze(images[j]))\n",
    "        plt.xlabel(f\"Model confidence: \\n{preds[j]:.4f}\")\n",
    "        plt.tight_layout()\n",
    "        ax = plt.gca()\n",
    "        ax.axes.xaxis.set_ticks([])\n",
    "        ax.axes.yaxis.set_ticks([])\n",
    "    plt.show;\n",
    "    return"
   ]
  },
  {
   "cell_type": "code",
   "execution_count": null,
   "metadata": {},
   "outputs": [],
   "source": [
    "plotter(correct_real, correct_real_pred)"
   ]
  },
  {
   "cell_type": "code",
   "execution_count": null,
   "metadata": {},
   "outputs": [],
   "source": [
    "plotter(misclassified_real, misclassified_real_pred)"
   ]
  },
  {
   "cell_type": "code",
   "execution_count": null,
   "metadata": {},
   "outputs": [],
   "source": [
    "plotter(correct_deepfake, correct_deepfake_pred)"
   ]
  },
  {
   "cell_type": "code",
   "execution_count": null,
   "metadata": {},
   "outputs": [],
   "source": [
    "plotter(misclassified_deepfake, misclassified_deepfake_pred)"
   ]
  }
 ],
 "metadata": {
  "kernelspec": {
   "display_name": "Python 3",
   "language": "python",
   "name": "python3"
  },
  "language_info": {
   "codemirror_mode": {
    "name": "ipython",
    "version": 3
   },
   "file_extension": ".py",
   "mimetype": "text/x-python",
   "name": "python",
   "nbconvert_exporter": "python",
   "pygments_lexer": "ipython3",
   "version": "3.11.1"
  }
 },
 "nbformat": 4,
 "nbformat_minor": 4
}
