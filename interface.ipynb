{
 "cells": [
  {
   "cell_type": "code",
   "execution_count": null,
   "id": "ce288931-b8cf-4aca-bf58-458fef5efcc1",
   "metadata": {},
   "outputs": [],
   "source": [
    "from flask import Flask, render_template, request, jsonify\n",
    "import magic\n",
    "import model  # We have a Python script/module for your mesonet model\n",
    "import model2  # We  have a Python script/module for your ML-based model\n",
    "\n",
    "app = Flask(__name__)\n",
    "\n",
    "def check_file_type(file_path):\n",
    "    mime = magic.Magic()\n",
    "    file_type = mime.from_file(file_path)\n",
    "    return file_type\n",
    "\n",
    "@app.route('/')\n",
    "def index():\n",
    "    return render_template('index.html')\n",
    "\n",
    "@app.route('/detect', methods=['POST'])\n",
    "def detect():\n",
    "    try:\n",
    "        uploaded_file = request.files['file']\n",
    "        file_type = check_file_type(uploaded_file.filename)\n",
    "\n",
    "        if 'image' in file_type or 'video' in file_type:\n",
    "            result = mesonet_model.detect_deepfake(uploaded_file)\n",
    "        elif 'audio' in file_type:\n",
    "            result = ml_model.detect_deepfake_audio(uploaded_file)\n",
    "        else:\n",
    "            return jsonify({'error': 'Unsupported file type'})\n",
    "\n",
    "        return jsonify({'result': result})\n",
    "\n",
    "    except Exception as e:\n",
    "        return jsonify({'error': str(e)})\n",
    "\n",
    "if __name__ == '__main__':\n",
    "    app.run(debug=True)\n"
   ]
  }
 ],
 "metadata": {
  "kernelspec": {
   "display_name": "Python 3 (ipykernel)",
   "language": "python",
   "name": "python3"
  },
  "language_info": {
   "codemirror_mode": {
    "name": "ipython",
    "version": 3
   },
   "file_extension": ".py",
   "mimetype": "text/x-python",
   "name": "python",
   "nbconvert_exporter": "python",
   "pygments_lexer": "ipython3",
   "version": "3.11.1"
  }
 },
 "nbformat": 4,
 "nbformat_minor": 5
}
